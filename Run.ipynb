{
 "cells": [
  {
   "cell_type": "code",
   "execution_count": 1,
   "metadata": {},
   "outputs": [
    {
     "name": "stdout",
     "output_type": "stream",
     "text": [
      "importing Jupyter notebook from output.ipynb\n"
     ]
    }
   ],
   "source": [
    "import import_ipynb\n",
    "import output"
   ]
  },
  {
   "cell_type": "code",
   "execution_count": 3,
   "metadata": {
    "scrolled": true
   },
   "outputs": [
    {
     "name": "stdout",
     "output_type": "stream",
     "text": [
      "Enter the Brand:Mruti\n",
      "Enter the Model of the car: Alto\n",
      "Enter the city name:delhi\n",
      "Enter the no.of Seats:4\n",
      "Enter the year range(1998,2019):2012\n",
      "Enter the kilometers driven :3000\n",
      "Enter the fuel type for (CNG =0  Diesel=1 Electric=2 LPG=3 Petrol=4) :4\n",
      "Enter the transmission type for (Automatic=0 Manual=1) :1\n",
      "Enter the Mileage in kmpl range(0,45):44\n",
      "Enter the Engine in CC range(70,6000):300\n",
      "Enter the Power in bph range(34,560):60\n",
      "\u001b[1mThe expected Price of the car in Lakhs is: \u001b[0m\n",
      "\u001b[1m\u001b[43m\u001b[30m1.88\u001b[0m\n"
     ]
    }
   ],
   "source": [
    "output.output()"
   ]
  }
 ],
 "metadata": {
  "kernelspec": {
   "display_name": "Python 3",
   "language": "python",
   "name": "python3"
  },
  "language_info": {
   "codemirror_mode": {
    "name": "ipython",
    "version": 3
   },
   "file_extension": ".py",
   "mimetype": "text/x-python",
   "name": "python",
   "nbconvert_exporter": "python",
   "pygments_lexer": "ipython3",
   "version": "3.7.3"
  }
 },
 "nbformat": 4,
 "nbformat_minor": 2
}
